{
 "cells": [
  {
   "cell_type": "code",
   "execution_count": null,
   "id": "b4fe0458-5165-4c12-87bc-4d4e3405bcb6",
   "metadata": {},
   "outputs": [],
   "source": [
    "import os\n",
    "import pandas as pd\n",
    "import re\n",
    "\n",
    "# 设置目标文件夹路径\n",
    "directory = r\"D:\\yyx\\course\\Summer_2024\\Internship\\image_generation\\ImageGeneration_forMedicalApplications\\ImageGeneration_forMedicalApplications\\Dataset\\dataset_George\\generated_new\"\n",
    "\n",
    "# 初始化列表存储数据\n",
    "data = []\n",
    "\n",
    "# 遍历目录中的所有文件\n",
    "for filename in os.listdir(directory):\n",
    "    if filename.endswith(\".png\") or filename.endswith(\".jpg\") or filename.endswith(\".jpeg\"):\n",
    "        # 获取完整路径\n",
    "        image_path = os.path.join(directory, filename)\n",
    "        \n",
    "        # 删除文件名最后的 \"__rating\"\n",
    "        original_image_path = re.sub(r'__(\\d+)\\.', '.', image_path)\n",
    "        \n",
    "        # 使用正则表达式匹配文件名最后的单个数字\n",
    "        match = re.search(r'__(\\d+)\\.', filename)\n",
    "        if match:\n",
    "            rating = int(match.group(1))  # 提取匹配到的数字并转换为整数\n",
    "        else:\n",
    "            rating = None  # 若无匹配数字，设为 None 或其他默认值\n",
    "        \n",
    "        # 添加到数据列表\n",
    "        data.append([original_image_path, rating])\n",
    "\n",
    "# 创建 DataFrame\n",
    "df = pd.DataFrame(data, columns=[\"image_path\", \"rating\"])\n",
    "\n",
    "# 保存为 CSV 文件\n",
    "csv_path = os.path.join(directory, \"image_ratings.csv\")\n",
    "df.to_csv(csv_path, index=False, encoding='utf-8')\n",
    "\n",
    "print(f\"CSV 文件已生成：{csv_path}\")"
   ]
  },
  {
   "cell_type": "code",
   "execution_count": null,
   "id": "4fcb0a64-a368-4319-b681-b0a2bf8b51ec",
   "metadata": {},
   "outputs": [],
   "source": [
    "import os\n",
    "import pandas as pd\n",
    "import re\n",
    "\n",
    "# 设置目标文件夹路径\n",
    "directory = r\"D:\\yyx\\course\\Summer_2024\\Internship\\image_generation\\ImageGeneration_forMedicalApplications\\ImageGeneration_forMedicalApplications\\Dataset\\dataset_George\\generated_new\"\n",
    "ratings_csv_path = os.path.join(directory, \"image_ratings.csv\")\n",
    "predictions_csv_path = r\"D:\\yyx\\course\\Summer_2024\\Internship\\image_generation\\ImageGeneration_forMedicalApplications\\ImageGeneration_forMedicalApplications\\Dataset\\dataset_George\\predictions_without_gt.csv\"\n",
    "\n",
    "# 读取两个 CSV 文件\n",
    "ratings_df = pd.read_csv(ratings_csv_path)\n",
    "predictions_df = pd.read_csv(predictions_csv_path)\n",
    "\n",
    "# 仅保留文件名用于匹配\n",
    "ratings_df['Filename'] = ratings_df['image_path'].apply(lambda x: os.path.basename(x))\n",
    "predictions_df['Filename'] = predictions_df['Image Path'].apply(lambda x: os.path.basename(x))\n",
    "\n",
    "# 合并两个 DataFrame，基于文件名匹配\n",
    "merged_df = ratings_df.merge(predictions_df[['Filename', 'Pred Angle1', 'Pred Angle2', 'Image Path']], on='Filename', how='inner')\n",
    "\n",
    "# 更新 image_path 为 predictions CSV 的路径\n",
    "merged_df['image_path'] = merged_df['Image Path']\n",
    "merged_df.drop(columns=['Filename', 'Image Path'], inplace=True)\n",
    "\n",
    "# 保存合并后的 CSV 文件\n",
    "output_csv_path = os.path.join(directory, \"image_ratings_with_predictions.csv\")\n",
    "merged_df.to_csv(output_csv_path, index=False, encoding='utf-8')\n",
    "\n",
    "print(f\"CSV 文件已生成：{output_csv_path}\")\n",
    "\n",
    "\n"
   ]
  },
  {
   "cell_type": "code",
   "execution_count": null,
   "id": "a9002a5b-5233-468f-9ced-990d1a76b0c3",
   "metadata": {},
   "outputs": [],
   "source": [
    "def classify_na(angle):\n",
    "    if angle >= 105:\n",
    "        return \"This high-resolution X-ray provides an exceptional view of the dog's hip joint structure, showing excellent hip conformation. The Norberg angle above 105 degrees reflects a stable and well-formed hip with optimal bone alignment.\"\n",
    "    elif 100 <= angle < 105:\n",
    "        return \"The X-ray reveals the canine hip with sharp bone margins and excellent contrast, demonstrating good joint conformation. The Norberg angle of 101-105 degrees suggests strong acetabular coverage and well-aligned femoral heads.\"\n",
    "    elif 95 <= angle < 100:\n",
    "        return \"This clear and well-structured X-ray image of the dog's hip joints highlights a fair hip condition. With a Norberg angle of 96-100 degrees, the joint structure appears near-normal, with minimal laxity.\"\n",
    "    elif 90 <= angle < 95:\n",
    "        return \"The X-ray scan provides a detailed and high-contrast visualization of the pelvic bones, suggesting a borderline hip condition. The Norberg angle of 91-95 degrees indicates slight incongruency in the femoral head and acetabulum.\"\n",
    "    elif 85 <= angle < 90:\n",
    "        return \"The high-resolution X-ray displays the canine hip bones with well-defined edges, showing mild hip dysplasia. The Norberg angle of 85-90 degrees suggests reduced joint congruity and early degenerative changes.\"\n",
    "    elif 80 <= angle < 85:\n",
    "        return \"The high-resolution X-ray displays the canine hip bones with well-defined edges, showing moderate hip dysplasia. The Norberg angle of 81-85 degrees suggests reduced joint congruity and early degenerative changes.\"\n",
    "    elif angle < 80:\n",
    "        return \"This X-ray clearly visualizes the dog's hip structure, revealing severe hip dysplasia with a Norberg angle below 80 degrees, indicating significant joint instability and poor acetabular coverage.\"\n",
    "    else:\n",
    "        return \"Unknown\"\n",
    "\n",
    "# 计算 Prompt 列，使用两个角度的平均值\n",
    "merged_df['Prompt'] = merged_df[['Pred Angle1', 'Pred Angle2']].mean(axis=1).apply(classify_na)\n",
    "merged_df.drop(columns=['Pred Angle1', 'Pred Angle2'], inplace=True)\n"
   ]
  },
  {
   "cell_type": "code",
   "execution_count": null,
   "id": "21454901-62ec-4a02-9953-d00f66026d08",
   "metadata": {},
   "outputs": [],
   "source": [
    "output_csv_path = os.path.join(directory, \"image_ratings_with_predictions.csv\")\n",
    "merged_df.to_csv(output_csv_path, index=False, encoding='utf-8')"
   ]
  },
  {
   "cell_type": "code",
   "execution_count": 2,
   "id": "789b08cc-61cf-4a11-ad95-9190db569dc8",
   "metadata": {},
   "outputs": [],
   "source": [
    "import os\n",
    "import pandas as pd\n",
    "import re\n",
    "path = \"/home/featurize/work/Img_gen/Image_generation_with_labels/Minim_RLHF.csv\"\n",
    "merged_df = pd.read_csv(path)\n",
    "merged_df['modality'] = \"CXR\"\n",
    "merged_df['expert_level'] = 1\n",
    "merged_df.to_csv(path, index=False, encoding='utf-8')\n"
   ]
  },
  {
   "cell_type": "code",
   "execution_count": 3,
   "id": "1c11ba3e-ee74-4466-a187-78a96fcfd9ff",
   "metadata": {},
   "outputs": [
    {
     "name": "stdout",
     "output_type": "stream",
     "text": [
      "CSV 文件已更新，并将 'Prompt' 列改为 'prompt'，路径: /home/featurize/work/Img_gen/Image_generation_with_labels/Minim_RLHF.csv\n"
     ]
    }
   ],
   "source": [
    "import pandas as pd\n",
    "\n",
    "# 读取 CSV 文件\n",
    "path = \"/home/featurize/work/Img_gen/Image_generation_with_labels/Minim_RLHF.csv\"\n",
    "df = pd.read_csv(path)\n",
    "\n",
    "# 修改列名\n",
    "df.rename(columns={\"Prompt\": \"prompt\"}, inplace=True)\n",
    "\n",
    "# 保存修改后的 CSV 文件\n",
    "df.to_csv(path, index=False, encoding='utf-8')\n",
    "\n",
    "print(f\"CSV 文件已更新，并将 'Prompt' 列改为 'prompt'，路径: {path}\")\n"
   ]
  },
  {
   "cell_type": "code",
   "execution_count": 5,
   "id": "44306a76-5db7-4378-9e1d-1877e904e8e1",
   "metadata": {},
   "outputs": [
    {
     "name": "stdout",
     "output_type": "stream",
     "text": [
      "CSV 文件已更新，'image_path' 已修改为 '/home/featurize/data/Images/generated_new/' 目录，路径: /home/featurize/work/Img_gen/Image_generation_with_labels/Minim_RLHF.csv\n"
     ]
    }
   ],
   "source": [
    "import pandas as pd\n",
    "import os\n",
    "\n",
    "# 读取 CSV 文件\n",
    "path = \"/home/featurize/work/Img_gen/Image_generation_with_labels/Minim_RLHF.csv\"\n",
    "df = pd.read_csv(path)\n",
    "\n",
    "# 修改 image_path，使其指向 /home/featurize/data/Images/generated_new/\n",
    "df[\"image_path\"] = df[\"image_path\"].apply(lambda x: os.path.join(\"/home/featurize/data/Images/generated_new\", os.path.basename(x)))\n",
    "\n",
    "# 保存修改后的 CSV 文件\n",
    "df.to_csv(path, index=False, encoding='utf-8')\n",
    "\n",
    "print(f\"CSV 文件已更新，'image_path' 已修改为 '/home/featurize/data/Images/generated_new/' 目录，路径: {path}\")\n"
   ]
  },
  {
   "cell_type": "code",
   "execution_count": 9,
   "id": "fe8e520a-fc9c-416b-b629-0b5f4c4daa3a",
   "metadata": {},
   "outputs": [
    {
     "name": "stdout",
     "output_type": "stream",
     "text": [
      "236945.jpg\n",
      "Updated image paths in /home/featurize/data/RLHF/norberg_angles.csv!\n"
     ]
    }
   ],
   "source": [
    "import os\n",
    "import pandas as pd\n",
    "\n",
    "resized_dir = \"/home/featurize/data/RLHF/resized\"\n",
    "csv_output_path = \"/home/featurize/data/RLHF/norberg_angles.csv\"\n",
    "\n",
    "if os.path.exists(csv_output_path):\n",
    "    df = pd.read_csv(csv_output_path)\n",
    "    df[\"image_path\"] = df[\"image_path\"].astype(str)  # 确保数据为字符串格式\n",
    "    df[\"image_name\"] = df[\"image_path\"].apply(lambda x: os.path.basename(x.replace(\"\\\\\", \"/\")))  # 解析图片名，兼容不同路径格式\n",
    "    print(df[\"image_name\"][0])\n",
    "    df[\"image_path\"] = df[\"image_name\"].apply(lambda x: os.path.join(resized_dir, x))\n",
    "    df.to_csv(csv_output_path, index=False)\n",
    "    print(f\"Updated image paths in {csv_output_path}!\")\n",
    "else:\n",
    "    print(f\"CSV file {csv_output_path} not found.\")\n",
    "\n",
    "\n"
   ]
  },
  {
   "cell_type": "code",
   "execution_count": 10,
   "id": "a81d5fe6-fc08-41cc-93f7-0300cb692c01",
   "metadata": {},
   "outputs": [
    {
     "name": "stdout",
     "output_type": "stream",
     "text": [
      "CSV 文件已更新，列顺序调整为 ['image_path', 'rating', 'modality', 'expert_level', 'prompt']，路径: /home/featurize/work/Img_gen/Image_generation_with_labels/Minim_RLHF.csv\n"
     ]
    }
   ],
   "source": [
    "import pandas as pd\n",
    "import numpy as np\n",
    "\n",
    "# 读取 CSV 文件\n",
    "path = \"/home/featurize/work/Img_gen/Image_generation_with_labels/Minim_RLHF.csv\"\n",
    "df = pd.read_csv(path)\n",
    "\n",
    "# 查找包含 NaN 或 非有限值（inf）的行\n",
    "df = df[df[\"rating\"].apply(lambda x: np.isfinite(x))]\n",
    "\n",
    "\n",
    "df = df[[\"image_path\", \"rating\", \"modality\", \"expert_level\", \"prompt\"]]\n",
    "\n",
    "# 保存修改后的 CSV 文件\n",
    "df.to_csv(path, index=False, encoding='utf-8')\n",
    "\n",
    "print(f\"CSV 文件已更新，列顺序调整为 ['image_path', 'rating', 'modality', 'expert_level', 'prompt']，路径: {path}\")\n"
   ]
  },
  {
   "cell_type": "code",
   "execution_count": 11,
   "id": "08dfb1d6-8a0e-4788-abb6-221010b3f62a",
   "metadata": {},
   "outputs": [],
   "source": [
    "df[\"rating\"] = df[\"rating\"].astype(int)\n",
    "df.to_csv(path, index=False, encoding='utf-8')"
   ]
  },
  {
   "cell_type": "code",
   "execution_count": 19,
   "id": "c580524c-aeff-4f98-8446-853f6c35bbb9",
   "metadata": {},
   "outputs": [
    {
     "name": "stdout",
     "output_type": "stream",
     "text": [
      "修改后的文件已保存至: /home/featurize/work/Img_gen/Image_generation_with_labels/Minim_RLHF.csv\n"
     ]
    }
   ],
   "source": [
    "import pandas as pd\n",
    "\n",
    "# 读取 CSV 文件\n",
    "path = \"/home/featurize/work/Img_gen/Image_generation_with_labels/Minim_RLHF.csv\"\n",
    "df = pd.read_csv(path)\n",
    "\n",
    "# 修改 'modality' 列的所有值\n",
    "df['modality'] = \"Chest X-Ray\"\n",
    "\n",
    "# 保存修改后的文件\n",
    "output_path = path\n",
    "df.to_csv(output_path, index=False)\n",
    "\n",
    "print(f\"修改后的文件已保存至: {output_path}\")\n"
   ]
  },
  {
   "cell_type": "code",
   "execution_count": 20,
   "id": "a12854bd-a04f-48d4-8e06-f25129ecf887",
   "metadata": {},
   "outputs": [
    {
     "name": "stdout",
     "output_type": "stream",
     "text": [
      "image_path      0\n",
      "rating          0\n",
      "modality        0\n",
      "expert_level    0\n",
      "prompt          0\n",
      "dtype: int64\n"
     ]
    }
   ],
   "source": [
    "import pandas as pd\n",
    "\n",
    "path = \"/home/featurize/work/Img_gen/Image_generation_with_labels/Minim_RLHF.csv\"\n",
    "df = pd.read_csv(path)\n",
    "\n",
    "# 查找 NaN\n",
    "print(df.isna().sum())\n",
    "\n"
   ]
  },
  {
   "cell_type": "code",
   "execution_count": 23,
   "id": "1c15307b-3133-4064-94a1-e144a030d6db",
   "metadata": {},
   "outputs": [],
   "source": [
    "df['rating'] = df['rating'].astype(int)  # 确保都是整数\n",
    "df = df[df['rating'].isin([1, 2, 3, 4, 5])]\n",
    "\n",
    "\n",
    "\n"
   ]
  },
  {
   "cell_type": "code",
   "execution_count": 12,
   "id": "09ff6ad8-e906-40a1-88db-c1b55de178da",
   "metadata": {},
   "outputs": [
    {
     "name": "stdout",
     "output_type": "stream",
     "text": [
      "Updated CSV saved as /home/featurize/data/RLHF/norberg_angles.csv!\n"
     ]
    }
   ],
   "source": [
    "import os\n",
    "import pandas as pd\n",
    "\n",
    "# 定义路径\n",
    "csv_input_path = \"/home/featurize/data/RLHF/norberg_angles.csv\"\n",
    "\n",
    "# 读取 CSV 并修改列\n",
    "if os.path.exists(csv_input_path):\n",
    "    df = pd.read_csv(csv_input_path)\n",
    "    \n",
    "    # 删除 image_name 列\n",
    "    df = df.drop(columns=[\"image_name\"], errors=\"ignore\")\n",
    "    \n",
    "    # 保存修改后的 CSV\n",
    "    df.to_csv(csv_input_path, index=False)\n",
    "    print(f\"Updated CSV saved as {csv_input_path}!\")\n",
    "else:\n",
    "    print(f\"CSV file {csv_input_path} not found.\")\n"
   ]
  },
  {
   "cell_type": "code",
   "execution_count": 11,
   "id": "a55d42e3-403e-41e0-b004-c52aa48a3c26",
   "metadata": {},
   "outputs": [
    {
     "name": "stdout",
     "output_type": "stream",
     "text": [
      "Modified CSV saved as /home/featurize/data/RLHF/norberg_angles_modified.csv!\n"
     ]
    }
   ],
   "source": [
    "import os\n",
    "import pandas as pd\n",
    "\n",
    "# 定义路径\n",
    "csv_input_path = \"/home/featurize/data/RLHF/norberg_angles.csv\"\n",
    "csv_output_path = \"/home/featurize/data/RLHF/norberg_angles_modified.csv\"\n",
    "\n",
    "# 读取 CSV 并修改列\n",
    "if os.path.exists(csv_input_path):\n",
    "    df = pd.read_csv(csv_input_path)\n",
    "    \n",
    "    # 删除 rating、expert_level 和 image_name 列\n",
    "    df = df.drop(columns=[\"rating\", \"expert_level\", \"image_name\"], errors=\"ignore\")\n",
    "    \n",
    "    # 重命名列\n",
    "    df = df.rename(columns={\"image_path\": \"path\", \"prompt\": \"text\"})\n",
    "    \n",
    "    # 修改 modality 列所有内容为 \"CXR\"\n",
    "    df[\"modality\"] = \"CXR\"\n",
    "    \n",
    "    # 保存为新的 CSV\n",
    "    df.to_csv(csv_output_path, index=False)\n",
    "    print(f\"Modified CSV saved as {csv_output_path}!\")\n",
    "else:\n",
    "    print(f\"CSV file {csv_input_path} not found.\")\n",
    "\n"
   ]
  },
  {
   "cell_type": "code",
   "execution_count": null,
   "id": "7728fc0e-f44e-4280-a9e2-e57edb086b63",
   "metadata": {},
   "outputs": [],
   "source": []
  },
  {
   "cell_type": "code",
   "execution_count": null,
   "id": "8f257b45-7215-4fb0-9bf0-a9b2a77b5bf8",
   "metadata": {},
   "outputs": [],
   "source": []
  },
  {
   "cell_type": "code",
   "execution_count": null,
   "id": "0b39da1a-d062-49da-a334-8431fb38bf79",
   "metadata": {},
   "outputs": [],
   "source": []
  },
  {
   "cell_type": "code",
   "execution_count": null,
   "id": "546f6f66-7808-4012-bd81-8419c18e9e0f",
   "metadata": {},
   "outputs": [],
   "source": []
  },
  {
   "cell_type": "code",
   "execution_count": null,
   "id": "c4b824ce-19e6-49d6-8c83-63dbe28ab4fb",
   "metadata": {},
   "outputs": [],
   "source": []
  },
  {
   "cell_type": "code",
   "execution_count": null,
   "id": "b45fa756-09fc-4724-96ad-8730cb7a0dd8",
   "metadata": {},
   "outputs": [],
   "source": []
  },
  {
   "cell_type": "code",
   "execution_count": 13,
   "id": "050944e5-3179-485e-ab22-3da27ae2868c",
   "metadata": {},
   "outputs": [
    {
     "name": "stdout",
     "output_type": "stream",
     "text": [
      "修改后的 CSV 已保存至: /home/featurize/work/Img_gen/Image_generation_with_labels/MINIM/MINIM_RLHF/outputs/image_ratings_with_predictions_modified.csv\n"
     ]
    }
   ],
   "source": [
    "import pandas as pd\n",
    "import os\n",
    "import re\n",
    "\n",
    "# 原始 CSV 文件路径\n",
    "file_path = \"/home/featurize/work/Img_gen/Image_generation_with_labels/MINIM/MINIM_RLHF/outputs/image_ratings_with_predictions.csv\"\n",
    "\n",
    "# 读取 CSV 文件\n",
    "df = pd.read_csv(file_path)\n",
    "\n",
    "# 目标路径前缀\n",
    "old_path_prefix = r\"D:/yyx/course/Summer_2024/Internship/image_generation/ImageGeneration_forMedicalApplications/ImageGeneration_forMedicalApplications/Dataset/dataset_George/Dog_hip_RLHF_gren/outputs/XR/\"\n",
    "new_path_prefix = \"/home/featurize/work/Img_gen/Image_generation_with_labels/MINIM/MINIM_RLHF/outputs/Chest X-Ray/\"\n",
    "\n",
    "# 修改路径和文件名的函数\n",
    "def modify_image_path(image_path):\n",
    "    if old_path_prefix in image_path:\n",
    "        # 提取原始文件名\n",
    "        file_name = os.path.basename(image_path)\n",
    "        # 提取数字和 policy 相关信息\n",
    "        match = re.search(r'dog_hip_(\\d+)_selector_([\\d.]+)_policy_([\\d.]+).png', file_name)\n",
    "        if match:\n",
    "            num, selector, policy = match.groups()\n",
    "            # 生成新的文件名格式\n",
    "            new_file_name = f\"Chest X-Ray_{num}_selector_{selector}_policy_{policy}.png\"\n",
    "            return os.path.join(new_path_prefix, new_file_name).replace(\"\\\\\", \"/\")\n",
    "    return image_path  # 如果路径不匹配，保持原样\n",
    "\n",
    "# 应用修改\n",
    "df[\"image_path\"] = df[\"image_path\"].apply(modify_image_path)\n",
    "\n",
    "# 保存修改后的 CSV\n",
    "modified_file_path = file_path.replace(\"image_ratings_with_predictions.csv\", \"image_ratings_with_predictions_modified.csv\")\n",
    "df.to_csv(modified_file_path, index=False)\n",
    "\n",
    "print(f\"修改后的 CSV 已保存至: {modified_file_path}\")\n"
   ]
  },
  {
   "cell_type": "code",
   "execution_count": 14,
   "id": "8dda7431-c4cd-4d48-9748-82ce8398601d",
   "metadata": {},
   "outputs": [
    {
     "name": "stdout",
     "output_type": "stream",
     "text": [
      "修改后的 CSV 已保存至: /home/featurize/work/Img_gen/Image_generation_with_labels/MINIM/MINIM_RLHF/outputs/image_ratings_with_predictions_modified.csv\n"
     ]
    }
   ],
   "source": [
    "\n",
    "df[\"modality\"] = \"Chest X-Ray\"\n",
    "df[\"expert_level\"] = 1\n",
    "df.rename(columns={\"Prompt\": \"prompt\"}, inplace=True)\n",
    "# 保存修改后的 CSV\n",
    "modified_file_path = file_path.replace(\"image_ratings_with_predictions.csv\", \"image_ratings_with_predictions_modified.csv\")\n",
    "df.to_csv(modified_file_path, index=False)\n",
    "\n",
    "print(f\"修改后的 CSV 已保存至: {modified_file_path}\")"
   ]
  },
  {
   "cell_type": "code",
   "execution_count": 15,
   "id": "92383c44-3432-4a2d-8dbc-50050b31ba5f",
   "metadata": {},
   "outputs": [
    {
     "name": "stdout",
     "output_type": "stream",
     "text": [
      "修改后的 CSV 已保存至: /home/featurize/work/Img_gen/Image_generation_with_labels/MINIM/MINIM_RLHF/outputs/image_ratings_stage1_modified.csv\n"
     ]
    }
   ],
   "source": [
    "import pandas as pd\n",
    "\n",
    "# 原始 CSV 文件路径\n",
    "file_path = \"/home/featurize/work/Img_gen/Image_generation_with_labels/MINIM/MINIM_RLHF/outputs/image_ratings_stage1.csv\"\n",
    "\n",
    "# 读取 CSV 文件\n",
    "df = pd.read_csv(file_path)\n",
    "\n",
    "# 旧的路径前缀和新的路径前缀\n",
    "old_path_prefix = \"/home/featurize/work/Img_gen/Image_generation_with_labels/MINIM/MINIM_RLHF/outputs/Chest X-Ray/\"\n",
    "new_path_prefix = \"/home/featurize/work/Img_gen/Image_generation_with_labels/MINIM/MINIM_RLHF/outputs/Chest X-Ray_stage1/\"\n",
    "\n",
    "# 修改路径的函数\n",
    "def modify_image_path(image_path):\n",
    "    if image_path.startswith(old_path_prefix):\n",
    "        return image_path.replace(old_path_prefix, new_path_prefix, 1)  # 只替换前缀部分\n",
    "    return image_path  # 保持原样\n",
    "\n",
    "# 应用修改\n",
    "df[\"image_path\"] = df[\"image_path\"].apply(modify_image_path)\n",
    "\n",
    "# 保存修改后的 CSV\n",
    "modified_file_path = file_path.replace(\"image_ratings_stage1.csv\", \"image_ratings_stage1_modified.csv\")\n",
    "df.to_csv(modified_file_path, index=False)\n",
    "\n",
    "print(f\"修改后的 CSV 已保存至: {modified_file_path}\")\n"
   ]
  },
  {
   "cell_type": "code",
   "execution_count": null,
   "id": "47791c9b-fd96-44ac-9a43-42c945ed7bfb",
   "metadata": {},
   "outputs": [],
   "source": []
  }
 ],
 "metadata": {
  "kernelspec": {
   "display_name": "Python 3 (ipykernel)",
   "language": "python",
   "name": "python3"
  },
  "language_info": {
   "codemirror_mode": {
    "name": "ipython",
    "version": 3
   },
   "file_extension": ".py",
   "mimetype": "text/x-python",
   "name": "python",
   "nbconvert_exporter": "python",
   "pygments_lexer": "ipython3",
   "version": "3.10.12"
  }
 },
 "nbformat": 4,
 "nbformat_minor": 5
}
