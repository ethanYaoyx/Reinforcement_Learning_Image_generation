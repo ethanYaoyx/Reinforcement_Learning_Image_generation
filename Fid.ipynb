{
 "cells": [
  {
   "cell_type": "code",
   "execution_count": 4,
   "id": "c11c0c2f-9054-446d-93dd-f8cb47a18bd5",
   "metadata": {},
   "outputs": [
    {
     "name": "stdout",
     "output_type": "stream",
     "text": [
      "Looking in indexes: https://pypi.tuna.tsinghua.edu.cn/simple\n",
      "Requirement already satisfied: torch in /environment/miniconda3/lib/python3.10/site-packages (2.6.0)\n",
      "Requirement already satisfied: torchvision in /environment/miniconda3/lib/python3.10/site-packages (0.21.0)\n",
      "Requirement already satisfied: pytorch-fid in /environment/miniconda3/lib/python3.10/site-packages (0.3.0)\n",
      "Requirement already satisfied: filelock in /environment/miniconda3/lib/python3.10/site-packages (from torch) (3.9.0)\n",
      "Requirement already satisfied: typing-extensions>=4.10.0 in /environment/miniconda3/lib/python3.10/site-packages (from torch) (4.12.2)\n",
      "Requirement already satisfied: networkx in /environment/miniconda3/lib/python3.10/site-packages (from torch) (3.0)\n",
      "Requirement already satisfied: jinja2 in /environment/miniconda3/lib/python3.10/site-packages (from torch) (3.1.5)\n",
      "Requirement already satisfied: fsspec in /environment/miniconda3/lib/python3.10/site-packages (from torch) (2024.9.0)\n",
      "Requirement already satisfied: nvidia-cuda-nvrtc-cu12==12.4.127 in /environment/miniconda3/lib/python3.10/site-packages (from torch) (12.4.127)\n",
      "Requirement already satisfied: nvidia-cuda-runtime-cu12==12.4.127 in /environment/miniconda3/lib/python3.10/site-packages (from torch) (12.4.127)\n",
      "Requirement already satisfied: nvidia-cuda-cupti-cu12==12.4.127 in /environment/miniconda3/lib/python3.10/site-packages (from torch) (12.4.127)\n",
      "Requirement already satisfied: nvidia-cudnn-cu12==9.1.0.70 in /environment/miniconda3/lib/python3.10/site-packages (from torch) (9.1.0.70)\n",
      "Requirement already satisfied: nvidia-cublas-cu12==12.4.5.8 in /environment/miniconda3/lib/python3.10/site-packages (from torch) (12.4.5.8)\n",
      "Requirement already satisfied: nvidia-cufft-cu12==11.2.1.3 in /environment/miniconda3/lib/python3.10/site-packages (from torch) (11.2.1.3)\n",
      "Requirement already satisfied: nvidia-curand-cu12==10.3.5.147 in /environment/miniconda3/lib/python3.10/site-packages (from torch) (10.3.5.147)\n",
      "Requirement already satisfied: nvidia-cusolver-cu12==11.6.1.9 in /environment/miniconda3/lib/python3.10/site-packages (from torch) (11.6.1.9)\n",
      "Requirement already satisfied: nvidia-cusparse-cu12==12.3.1.170 in /environment/miniconda3/lib/python3.10/site-packages (from torch) (12.3.1.170)\n",
      "Requirement already satisfied: nvidia-cusparselt-cu12==0.6.2 in /environment/miniconda3/lib/python3.10/site-packages (from torch) (0.6.2)\n",
      "Requirement already satisfied: nvidia-nccl-cu12==2.21.5 in /environment/miniconda3/lib/python3.10/site-packages (from torch) (2.21.5)\n",
      "Requirement already satisfied: nvidia-nvtx-cu12==12.4.127 in /environment/miniconda3/lib/python3.10/site-packages (from torch) (12.4.127)\n",
      "Requirement already satisfied: nvidia-nvjitlink-cu12==12.4.127 in /environment/miniconda3/lib/python3.10/site-packages (from torch) (12.4.127)\n",
      "Requirement already satisfied: triton==3.2.0 in /environment/miniconda3/lib/python3.10/site-packages (from torch) (3.2.0)\n",
      "Requirement already satisfied: sympy==1.13.1 in /environment/miniconda3/lib/python3.10/site-packages (from torch) (1.13.1)\n",
      "Requirement already satisfied: mpmath<1.4,>=1.1.0 in /environment/miniconda3/lib/python3.10/site-packages (from sympy==1.13.1->torch) (1.2.1)\n",
      "Requirement already satisfied: numpy in /environment/miniconda3/lib/python3.10/site-packages (from torchvision) (1.23.5)\n",
      "Requirement already satisfied: pillow!=8.3.*,>=5.3.0 in /environment/miniconda3/lib/python3.10/site-packages (from torchvision) (11.1.0)\n",
      "Requirement already satisfied: scipy in /environment/miniconda3/lib/python3.10/site-packages (from pytorch-fid) (1.15.1)\n",
      "Requirement already satisfied: MarkupSafe>=2.0 in /environment/miniconda3/lib/python3.10/site-packages (from jinja2->torch) (2.1.2)\n"
     ]
    }
   ],
   "source": [
    "!pip install torch torchvision pytorch-fid\n",
    "\n"
   ]
  },
  {
   "cell_type": "code",
   "execution_count": 4,
   "id": "40a51f5a-1fa2-4636-a863-8ad12fe9f38b",
   "metadata": {},
   "outputs": [],
   "source": [
    "import os\n",
    "from pytorch_fid import fid_score\n"
   ]
  },
  {
   "cell_type": "code",
   "execution_count": 3,
   "id": "c6464f10-70c3-4694-bf25-ad050252f0ab",
   "metadata": {
    "collapsed": true,
    "jupyter": {
     "outputs_hidden": true
    },
    "tags": []
   },
   "outputs": [
    {
     "name": "stdout",
     "output_type": "stream",
     "text": [
      "Processed image saved to: /home/featurize/work/Img_gen/Image_generation_with_labels/processed_dataset/train_resized/255093.jpg\n",
      "Processed image saved to: /home/featurize/work/Img_gen/Image_generation_with_labels/processed_dataset/train_resized/244731.jpg\n",
      "Processed image saved to: /home/featurize/work/Img_gen/Image_generation_with_labels/processed_dataset/train_resized/173825.jpg\n",
      "Processed image saved to: /home/featurize/work/Img_gen/Image_generation_with_labels/processed_dataset/train_resized/273241.jpg\n",
      "Processed image saved to: /home/featurize/work/Img_gen/Image_generation_with_labels/processed_dataset/train_resized/246479.jpg\n",
      "Processed image saved to: /home/featurize/work/Img_gen/Image_generation_with_labels/processed_dataset/train_resized/211772.jpg\n",
      "Processed image saved to: /home/featurize/work/Img_gen/Image_generation_with_labels/processed_dataset/train_resized/183705.jpg\n",
      "Processed image saved to: /home/featurize/work/Img_gen/Image_generation_with_labels/processed_dataset/train_resized/193954.jpg\n",
      "Processed image saved to: /home/featurize/work/Img_gen/Image_generation_with_labels/processed_dataset/train_resized/252359.jpg\n",
      "Processed image saved to: /home/featurize/work/Img_gen/Image_generation_with_labels/processed_dataset/train_resized/252660.jpg\n",
      "Processed image saved to: /home/featurize/work/Img_gen/Image_generation_with_labels/processed_dataset/train_resized/197679.jpg\n",
      "Processed image saved to: /home/featurize/work/Img_gen/Image_generation_with_labels/processed_dataset/train_resized/202173.jpg\n",
      "Processed image saved to: /home/featurize/work/Img_gen/Image_generation_with_labels/processed_dataset/train_resized/240943.jpg\n",
      "Processed image saved to: /home/featurize/work/Img_gen/Image_generation_with_labels/processed_dataset/train_resized/254443.jpg\n",
      "Processed image saved to: /home/featurize/work/Img_gen/Image_generation_with_labels/processed_dataset/train_resized/208228.jpg\n",
      "Processed image saved to: /home/featurize/work/Img_gen/Image_generation_with_labels/processed_dataset/train_resized/190691.jpg\n",
      "Skipping non-image file: metadata_minim.csv\n",
      "Processed image saved to: /home/featurize/work/Img_gen/Image_generation_with_labels/processed_dataset/train_resized/177619.jpg\n",
      "Processed image saved to: /home/featurize/work/Img_gen/Image_generation_with_labels/processed_dataset/train_resized/188514.jpg\n",
      "Processed image saved to: /home/featurize/work/Img_gen/Image_generation_with_labels/processed_dataset/train_resized/211321.jpg\n",
      "Processed image saved to: /home/featurize/work/Img_gen/Image_generation_with_labels/processed_dataset/train_resized/205950.jpg\n",
      "Processed image saved to: /home/featurize/work/Img_gen/Image_generation_with_labels/processed_dataset/train_resized/239610.jpg\n",
      "Processed image saved to: /home/featurize/work/Img_gen/Image_generation_with_labels/processed_dataset/train_resized/188568.jpg\n",
      "Processed image saved to: /home/featurize/work/Img_gen/Image_generation_with_labels/processed_dataset/train_resized/181768.jpg\n",
      "Processed image saved to: /home/featurize/work/Img_gen/Image_generation_with_labels/processed_dataset/train_resized/195323.jpg\n",
      "Processed image saved to: /home/featurize/work/Img_gen/Image_generation_with_labels/processed_dataset/train_resized/304777.jpg\n",
      "Processed image saved to: /home/featurize/work/Img_gen/Image_generation_with_labels/processed_dataset/train_resized/172767.jpg\n",
      "Processed image saved to: /home/featurize/work/Img_gen/Image_generation_with_labels/processed_dataset/train_resized/179471.jpg\n",
      "Processed image saved to: /home/featurize/work/Img_gen/Image_generation_with_labels/processed_dataset/train_resized/209288.jpg\n",
      "Processed image saved to: /home/featurize/work/Img_gen/Image_generation_with_labels/processed_dataset/train_resized/249225.jpg\n",
      "Processed image saved to: /home/featurize/work/Img_gen/Image_generation_with_labels/processed_dataset/train_resized/198081.jpg\n",
      "Processed image saved to: /home/featurize/work/Img_gen/Image_generation_with_labels/processed_dataset/train_resized/213003.jpg\n",
      "Processed image saved to: /home/featurize/work/Img_gen/Image_generation_with_labels/processed_dataset/train_resized/160324.jpg\n",
      "Processed image saved to: /home/featurize/work/Img_gen/Image_generation_with_labels/processed_dataset/train_resized/213419.jpg\n",
      "Processed image saved to: /home/featurize/work/Img_gen/Image_generation_with_labels/processed_dataset/train_resized/176389.jpg\n",
      "Processed image saved to: /home/featurize/work/Img_gen/Image_generation_with_labels/processed_dataset/train_resized/197938.jpg\n",
      "Processed image saved to: /home/featurize/work/Img_gen/Image_generation_with_labels/processed_dataset/train_resized/212479.jpg\n",
      "Processed image saved to: /home/featurize/work/Img_gen/Image_generation_with_labels/processed_dataset/train_resized/176745.jpg\n",
      "Processed image saved to: /home/featurize/work/Img_gen/Image_generation_with_labels/processed_dataset/train_resized/179256.jpg\n",
      "Processed image saved to: /home/featurize/work/Img_gen/Image_generation_with_labels/processed_dataset/train_resized/192441.jpg\n",
      "Processed image saved to: /home/featurize/work/Img_gen/Image_generation_with_labels/processed_dataset/train_resized/250736.jpg\n",
      "Skipping non-image file: metadata.csv\n",
      "Processed image saved to: /home/featurize/work/Img_gen/Image_generation_with_labels/processed_dataset/train_resized/210882.jpg\n",
      "Processed image saved to: /home/featurize/work/Img_gen/Image_generation_with_labels/processed_dataset/train_resized/197380.jpg\n",
      "Processed image saved to: /home/featurize/work/Img_gen/Image_generation_with_labels/processed_dataset/train_resized/234524.jpg\n",
      "Processed image saved to: /home/featurize/work/Img_gen/Image_generation_with_labels/processed_dataset/train_resized/255331.jpg\n",
      "Processed image saved to: /home/featurize/work/Img_gen/Image_generation_with_labels/processed_dataset/train_resized/263240.jpg\n",
      "Processed image saved to: /home/featurize/work/Img_gen/Image_generation_with_labels/processed_dataset/train_resized/214097.jpg\n",
      "Processed image saved to: /home/featurize/work/Img_gen/Image_generation_with_labels/processed_dataset/train_resized/214351.jpg\n",
      "Processed image saved to: /home/featurize/work/Img_gen/Image_generation_with_labels/processed_dataset/train_resized/179025.jpg\n",
      "Processed image saved to: /home/featurize/work/Img_gen/Image_generation_with_labels/processed_dataset/train_resized/187058.jpg\n",
      "Skipping non-image file: .ipynb_checkpoints\n",
      "Processed image saved to: /home/featurize/work/Img_gen/Image_generation_with_labels/processed_dataset/train_resized/125607.jpg\n",
      "Processed image saved to: /home/featurize/work/Img_gen/Image_generation_with_labels/processed_dataset/train_resized/181479.jpg\n",
      "Processed image saved to: /home/featurize/work/Img_gen/Image_generation_with_labels/processed_dataset/train_resized/195826.jpg\n",
      "Processed image saved to: /home/featurize/work/Img_gen/Image_generation_with_labels/processed_dataset/train_resized/195667.jpg\n",
      "Processed image saved to: /home/featurize/work/Img_gen/Image_generation_with_labels/processed_dataset/train_resized/211480.jpg\n",
      "Processed image saved to: /home/featurize/work/Img_gen/Image_generation_with_labels/processed_dataset/train_resized/187159.jpg\n",
      "Processed image saved to: /home/featurize/work/Img_gen/Image_generation_with_labels/processed_dataset/train_resized/259644.jpg\n",
      "Processed image saved to: /home/featurize/work/Img_gen/Image_generation_with_labels/processed_dataset/train_resized/188569.jpg\n",
      "Processed image saved to: /home/featurize/work/Img_gen/Image_generation_with_labels/processed_dataset/train_resized/178581.jpg\n",
      "Processed image saved to: /home/featurize/work/Img_gen/Image_generation_with_labels/processed_dataset/train_resized/253762.jpg\n",
      "Processed image saved to: /home/featurize/work/Img_gen/Image_generation_with_labels/processed_dataset/train_resized/212992.jpg\n",
      "Processed image saved to: /home/featurize/work/Img_gen/Image_generation_with_labels/processed_dataset/train_resized/261655.jpg\n",
      "Processed image saved to: /home/featurize/work/Img_gen/Image_generation_with_labels/processed_dataset/train_resized/208061.jpg\n",
      "Processed image saved to: /home/featurize/work/Img_gen/Image_generation_with_labels/processed_dataset/train_resized/261937.jpg\n",
      "Processed image saved to: /home/featurize/work/Img_gen/Image_generation_with_labels/processed_dataset/train_resized/254016.jpg\n",
      "Processed image saved to: /home/featurize/work/Img_gen/Image_generation_with_labels/processed_dataset/train_resized/249943.jpg\n",
      "Processed image saved to: /home/featurize/work/Img_gen/Image_generation_with_labels/processed_dataset/train_resized/178084.jpg\n",
      "Processed image saved to: /home/featurize/work/Img_gen/Image_generation_with_labels/processed_dataset/train_resized/255663.jpg\n",
      "Processed image saved to: /home/featurize/work/Img_gen/Image_generation_with_labels/processed_dataset/train_resized/198930.jpg\n",
      "Processed image saved to: /home/featurize/work/Img_gen/Image_generation_with_labels/processed_dataset/train_resized/197080.jpg\n",
      "Processed image saved to: /home/featurize/work/Img_gen/Image_generation_with_labels/processed_dataset/train_resized/258974.jpg\n",
      "Processed image saved to: /home/featurize/work/Img_gen/Image_generation_with_labels/processed_dataset/train_resized/189657.jpg\n",
      "Processed image saved to: /home/featurize/work/Img_gen/Image_generation_with_labels/processed_dataset/train_resized/196973.jpg\n",
      "Processed image saved to: /home/featurize/work/Img_gen/Image_generation_with_labels/processed_dataset/train_resized/171558.jpg\n",
      "Processed image saved to: /home/featurize/work/Img_gen/Image_generation_with_labels/processed_dataset/train_resized/240942.jpg\n",
      "Processed image saved to: /home/featurize/work/Img_gen/Image_generation_with_labels/processed_dataset/train_resized/192998.jpg\n",
      "Processed image saved to: /home/featurize/work/Img_gen/Image_generation_with_labels/processed_dataset/train_resized/230489.jpg\n",
      "Processed image saved to: /home/featurize/work/Img_gen/Image_generation_with_labels/processed_dataset/train_resized/245511.jpg\n",
      "Processed image saved to: /home/featurize/work/Img_gen/Image_generation_with_labels/processed_dataset/train_resized/243663.jpg\n",
      "Processed image saved to: /home/featurize/work/Img_gen/Image_generation_with_labels/processed_dataset/train_resized/185645.jpg\n",
      "Processed image saved to: /home/featurize/work/Img_gen/Image_generation_with_labels/processed_dataset/train_resized/172438.jpg\n",
      "Processed image saved to: /home/featurize/work/Img_gen/Image_generation_with_labels/processed_dataset/train_resized/193478.jpg\n",
      "Processed image saved to: /home/featurize/work/Img_gen/Image_generation_with_labels/processed_dataset/train_resized/176072.jpg\n",
      "Processed image saved to: /home/featurize/work/Img_gen/Image_generation_with_labels/processed_dataset/train_resized/201656.jpg\n",
      "Processed image saved to: /home/featurize/work/Img_gen/Image_generation_with_labels/processed_dataset/train_resized/195477.jpg\n",
      "Processed image saved to: /home/featurize/work/Img_gen/Image_generation_with_labels/processed_dataset/train_resized/229243.jpg\n",
      "Processed image saved to: /home/featurize/work/Img_gen/Image_generation_with_labels/processed_dataset/train_resized/218787.jpg\n",
      "Processed image saved to: /home/featurize/work/Img_gen/Image_generation_with_labels/processed_dataset/train_resized/231455.jpg\n",
      "Processed image saved to: /home/featurize/work/Img_gen/Image_generation_with_labels/processed_dataset/train_resized/188815.jpg\n",
      "Processed image saved to: /home/featurize/work/Img_gen/Image_generation_with_labels/processed_dataset/train_resized/178167.jpg\n",
      "Processed image saved to: /home/featurize/work/Img_gen/Image_generation_with_labels/processed_dataset/train_resized/202047.jpg\n",
      "Processed image saved to: /home/featurize/work/Img_gen/Image_generation_with_labels/processed_dataset/train_resized/215787.jpg\n",
      "Skipping non-image file: metadata_minim_new.csv\n",
      "Processed image saved to: /home/featurize/work/Img_gen/Image_generation_with_labels/processed_dataset/train_resized/244584.jpg\n",
      "Processed image saved to: /home/featurize/work/Img_gen/Image_generation_with_labels/processed_dataset/train_resized/209190.jpg\n",
      "Processed image saved to: /home/featurize/work/Img_gen/Image_generation_with_labels/processed_dataset/train_resized/177268.jpg\n",
      "Processed image saved to: /home/featurize/work/Img_gen/Image_generation_with_labels/processed_dataset/train_resized/226139.jpg\n",
      "Processed image saved to: /home/featurize/work/Img_gen/Image_generation_with_labels/processed_dataset/train_resized/203195.jpg\n",
      "Processed image saved to: /home/featurize/work/Img_gen/Image_generation_with_labels/processed_dataset/train_resized/305183.jpg\n",
      "Processed image saved to: /home/featurize/work/Img_gen/Image_generation_with_labels/processed_dataset/train_resized/176325.jpg\n",
      "Processed image saved to: /home/featurize/work/Img_gen/Image_generation_with_labels/processed_dataset/train_resized/193503.jpg\n",
      "Processed image saved to: /home/featurize/work/Img_gen/Image_generation_with_labels/processed_dataset/train_resized/214945.jpg\n",
      "Processed image saved to: /home/featurize/work/Img_gen/Image_generation_with_labels/processed_dataset/train_resized/315472.jpg\n",
      "Processed image saved to: /home/featurize/work/Img_gen/Image_generation_with_labels/processed_dataset/train_resized/176357.jpg\n",
      "Processed image saved to: /home/featurize/work/Img_gen/Image_generation_with_labels/processed_dataset/train_resized/198265.jpg\n",
      "Processed image saved to: /home/featurize/work/Img_gen/Image_generation_with_labels/processed_dataset/train_resized/202937.jpg\n",
      "Processed image saved to: /home/featurize/work/Img_gen/Image_generation_with_labels/processed_dataset/train_resized/178934.jpg\n",
      "Processed image saved to: /home/featurize/work/Img_gen/Image_generation_with_labels/processed_dataset/train_resized/196696.jpg\n",
      "Processed image saved to: /home/featurize/work/Img_gen/Image_generation_with_labels/processed_dataset/train_resized/177140.jpg\n",
      "Processed image saved to: /home/featurize/work/Img_gen/Image_generation_with_labels/processed_dataset/train_resized/213200.jpg\n",
      "Processed image saved to: /home/featurize/work/Img_gen/Image_generation_with_labels/processed_dataset/train_resized/231733.jpg\n",
      "Processed image saved to: /home/featurize/work/Img_gen/Image_generation_with_labels/processed_dataset/train_resized/209781.jpg\n",
      "Processed image saved to: /home/featurize/work/Img_gen/Image_generation_with_labels/processed_dataset/train_resized/168754.jpg\n",
      "Processed image saved to: /home/featurize/work/Img_gen/Image_generation_with_labels/processed_dataset/train_resized/171770.jpg\n",
      "Processed image saved to: /home/featurize/work/Img_gen/Image_generation_with_labels/processed_dataset/train_resized/208661.jpg\n",
      "Processed image saved to: /home/featurize/work/Img_gen/Image_generation_with_labels/processed_dataset/train_resized/216282.jpg\n",
      "Processed image saved to: /home/featurize/work/Img_gen/Image_generation_with_labels/processed_dataset/train_resized/177196.jpg\n",
      "Processed image saved to: /home/featurize/work/Img_gen/Image_generation_with_labels/processed_dataset/train_resized/238948.jpg\n",
      "Processed image saved to: /home/featurize/work/Img_gen/Image_generation_with_labels/processed_dataset/train_resized/262222.jpg\n",
      "Processed image saved to: /home/featurize/work/Img_gen/Image_generation_with_labels/processed_dataset/train_resized/181888.jpg\n",
      "Processed image saved to: /home/featurize/work/Img_gen/Image_generation_with_labels/processed_dataset/train_resized/172093.jpg\n",
      "Processed image saved to: /home/featurize/work/Img_gen/Image_generation_with_labels/processed_dataset/train_resized/201882.jpg\n",
      "Processed image saved to: /home/featurize/work/Img_gen/Image_generation_with_labels/processed_dataset/train_resized/179067.jpg\n",
      "Processed image saved to: /home/featurize/work/Img_gen/Image_generation_with_labels/processed_dataset/train_resized/250500.jpg\n",
      "Processed image saved to: /home/featurize/work/Img_gen/Image_generation_with_labels/processed_dataset/train_resized/199035.jpg\n",
      "Processed image saved to: /home/featurize/work/Img_gen/Image_generation_with_labels/processed_dataset/train_resized/184679.jpg\n",
      "Processed image saved to: /home/featurize/work/Img_gen/Image_generation_with_labels/processed_dataset/train_resized/167048.jpg\n",
      "Processed image saved to: /home/featurize/work/Img_gen/Image_generation_with_labels/processed_dataset/train_resized/247216.jpg\n",
      "Processed image saved to: /home/featurize/work/Img_gen/Image_generation_with_labels/processed_dataset/train_resized/182116.jpg\n",
      "Processed image saved to: /home/featurize/work/Img_gen/Image_generation_with_labels/processed_dataset/train_resized/244587.jpg\n",
      "Processed image saved to: /home/featurize/work/Img_gen/Image_generation_with_labels/processed_dataset/train_resized/204765.jpg\n",
      "Processed image saved to: /home/featurize/work/Img_gen/Image_generation_with_labels/processed_dataset/train_resized/203982.jpg\n",
      "Processed image saved to: /home/featurize/work/Img_gen/Image_generation_with_labels/processed_dataset/train_resized/242624.jpg\n",
      "Processed image saved to: /home/featurize/work/Img_gen/Image_generation_with_labels/processed_dataset/train_resized/196191.jpg\n",
      "Processed image saved to: /home/featurize/work/Img_gen/Image_generation_with_labels/processed_dataset/train_resized/253938.jpg\n",
      "Processed image saved to: /home/featurize/work/Img_gen/Image_generation_with_labels/processed_dataset/train_resized/255477.jpg\n",
      "Processed image saved to: /home/featurize/work/Img_gen/Image_generation_with_labels/processed_dataset/train_resized/237873.jpg\n",
      "Processed image saved to: /home/featurize/work/Img_gen/Image_generation_with_labels/processed_dataset/train_resized/174285.jpg\n",
      "Processed image saved to: /home/featurize/work/Img_gen/Image_generation_with_labels/processed_dataset/train_resized/214700.jpg\n",
      "Processed image saved to: /home/featurize/work/Img_gen/Image_generation_with_labels/processed_dataset/train_resized/168471.jpg\n",
      "Processed image saved to: /home/featurize/work/Img_gen/Image_generation_with_labels/processed_dataset/train_resized/198382.jpg\n",
      "Processed image saved to: /home/featurize/work/Img_gen/Image_generation_with_labels/processed_dataset/train_resized/244532.jpg\n",
      "Processed image saved to: /home/featurize/work/Img_gen/Image_generation_with_labels/processed_dataset/train_resized/206606.jpg\n",
      "Processed image saved to: /home/featurize/work/Img_gen/Image_generation_with_labels/processed_dataset/train_resized/193722.jpg\n",
      "Processed image saved to: /home/featurize/work/Img_gen/Image_generation_with_labels/processed_dataset/train_resized/195747.jpg\n",
      "Processed image saved to: /home/featurize/work/Img_gen/Image_generation_with_labels/processed_dataset/train_resized/194494.jpg\n",
      "Processed image saved to: /home/featurize/work/Img_gen/Image_generation_with_labels/processed_dataset/train_resized/253630.jpg\n",
      "Processed image saved to: /home/featurize/work/Img_gen/Image_generation_with_labels/processed_dataset/train_resized/196241.jpg\n",
      "Processed image saved to: /home/featurize/work/Img_gen/Image_generation_with_labels/processed_dataset/train_resized/198825.jpg\n",
      "Processed image saved to: /home/featurize/work/Img_gen/Image_generation_with_labels/processed_dataset/train_resized/151315.jpg\n",
      "Processed image saved to: /home/featurize/work/Img_gen/Image_generation_with_labels/processed_dataset/train_resized/238408.jpg\n",
      "Processed image saved to: /home/featurize/work/Img_gen/Image_generation_with_labels/processed_dataset/train_resized/187423.jpg\n",
      "Processed image saved to: /home/featurize/work/Img_gen/Image_generation_with_labels/processed_dataset/train_resized/181519.jpg\n",
      "Processed image saved to: /home/featurize/work/Img_gen/Image_generation_with_labels/processed_dataset/train_resized/195946.jpg\n",
      "Processed image saved to: /home/featurize/work/Img_gen/Image_generation_with_labels/processed_dataset/train_resized/210634.jpg\n",
      "Processed image saved to: /home/featurize/work/Img_gen/Image_generation_with_labels/processed_dataset/train_resized/243357.jpg\n",
      "Processed image saved to: /home/featurize/work/Img_gen/Image_generation_with_labels/processed_dataset/train_resized/251469.jpg\n",
      "Processed image saved to: /home/featurize/work/Img_gen/Image_generation_with_labels/processed_dataset/train_resized/209166.jpg\n",
      "Processed image saved to: /home/featurize/work/Img_gen/Image_generation_with_labels/processed_dataset/train_resized/194196.jpg\n",
      "Processed image saved to: /home/featurize/work/Img_gen/Image_generation_with_labels/processed_dataset/train_resized/296361.jpg\n",
      "Processed image saved to: /home/featurize/work/Img_gen/Image_generation_with_labels/processed_dataset/train_resized/176195.jpg\n",
      "Processed image saved to: /home/featurize/work/Img_gen/Image_generation_with_labels/processed_dataset/train_resized/174506.jpg\n",
      "Processed image saved to: /home/featurize/work/Img_gen/Image_generation_with_labels/processed_dataset/train_resized/211628.jpg\n",
      "Processed image saved to: /home/featurize/work/Img_gen/Image_generation_with_labels/processed_dataset/train_resized/204094.jpg\n",
      "Processed image saved to: /home/featurize/work/Img_gen/Image_generation_with_labels/processed_dataset/train_resized/222537.jpg\n",
      "Processed image saved to: /home/featurize/work/Img_gen/Image_generation_with_labels/processed_dataset/train_resized/191166.jpg\n",
      "Processed image saved to: /home/featurize/work/Img_gen/Image_generation_with_labels/processed_dataset/train_resized/190347.jpg\n",
      "Processed image saved to: /home/featurize/work/Img_gen/Image_generation_with_labels/processed_dataset/train_resized/140612.jpg\n",
      "Processed image saved to: /home/featurize/work/Img_gen/Image_generation_with_labels/processed_dataset/train_resized/186492.jpg\n",
      "Processed image saved to: /home/featurize/work/Img_gen/Image_generation_with_labels/processed_dataset/train_resized/243570.jpg\n",
      "Processed image saved to: /home/featurize/work/Img_gen/Image_generation_with_labels/processed_dataset/train_resized/258300.jpg\n",
      "Processed image saved to: /home/featurize/work/Img_gen/Image_generation_with_labels/processed_dataset/train_resized/245866.jpg\n",
      "Processed image saved to: /home/featurize/work/Img_gen/Image_generation_with_labels/processed_dataset/train_resized/249764.jpg\n",
      "Processed image saved to: /home/featurize/work/Img_gen/Image_generation_with_labels/processed_dataset/train_resized/171098.jpg\n",
      "Processed image saved to: /home/featurize/work/Img_gen/Image_generation_with_labels/processed_dataset/train_resized/165479.jpg\n",
      "Processed image saved to: /home/featurize/work/Img_gen/Image_generation_with_labels/processed_dataset/train_resized/169687.jpg\n",
      "Processed image saved to: /home/featurize/work/Img_gen/Image_generation_with_labels/processed_dataset/train_resized/190537.jpg\n",
      "Processed image saved to: /home/featurize/work/Img_gen/Image_generation_with_labels/processed_dataset/train_resized/195911.jpg\n",
      "Processed image saved to: /home/featurize/work/Img_gen/Image_generation_with_labels/processed_dataset/train_resized/213317.jpg\n",
      "Processed image saved to: /home/featurize/work/Img_gen/Image_generation_with_labels/processed_dataset/train_resized/250092.jpg\n",
      "Processed image saved to: /home/featurize/work/Img_gen/Image_generation_with_labels/processed_dataset/train_resized/237872.jpg\n",
      "Processed image saved to: /home/featurize/work/Img_gen/Image_generation_with_labels/processed_dataset/train_resized/322437.jpg\n",
      "Processed image saved to: /home/featurize/work/Img_gen/Image_generation_with_labels/processed_dataset/train_resized/186468.jpg\n",
      "Processed image saved to: /home/featurize/work/Img_gen/Image_generation_with_labels/processed_dataset/train_resized/194883.jpg\n",
      "Processed image saved to: /home/featurize/work/Img_gen/Image_generation_with_labels/processed_dataset/train_resized/262223.jpg\n",
      "Processed image saved to: /home/featurize/work/Img_gen/Image_generation_with_labels/processed_dataset/train_resized/302796.jpg\n",
      "Processed image saved to: /home/featurize/work/Img_gen/Image_generation_with_labels/processed_dataset/train_resized/217001.jpg\n",
      "Processed image saved to: /home/featurize/work/Img_gen/Image_generation_with_labels/processed_dataset/train_resized/170406.jpg\n",
      "Processed image saved to: /home/featurize/work/Img_gen/Image_generation_with_labels/processed_dataset/train_resized/238949.jpg\n",
      "Processed image saved to: /home/featurize/work/Img_gen/Image_generation_with_labels/processed_dataset/train_resized/175820.jpg\n",
      "Processed image saved to: /home/featurize/work/Img_gen/Image_generation_with_labels/processed_dataset/train_resized/201860.jpg\n",
      "Processed image saved to: /home/featurize/work/Img_gen/Image_generation_with_labels/processed_dataset/train_resized/212897.jpg\n",
      "Processed image saved to: /home/featurize/work/Img_gen/Image_generation_with_labels/processed_dataset/train_resized/188700.jpg\n",
      "Processed image saved to: /home/featurize/work/Img_gen/Image_generation_with_labels/processed_dataset/train_resized/200068.jpg\n",
      "Processed image saved to: /home/featurize/work/Img_gen/Image_generation_with_labels/processed_dataset/train_resized/193716.jpg\n",
      "Processed image saved to: /home/featurize/work/Img_gen/Image_generation_with_labels/processed_dataset/train_resized/200079.jpg\n",
      "Processed image saved to: /home/featurize/work/Img_gen/Image_generation_with_labels/processed_dataset/train_resized/243207.jpg\n",
      "Processed image saved to: /home/featurize/work/Img_gen/Image_generation_with_labels/processed_dataset/train_resized/183154.jpg\n",
      "Processed image saved to: /home/featurize/work/Img_gen/Image_generation_with_labels/processed_dataset/train_resized/208107.jpg\n",
      "Processed image saved to: /home/featurize/work/Img_gen/Image_generation_with_labels/processed_dataset/train_resized/186217.jpg\n",
      "Processed image saved to: /home/featurize/work/Img_gen/Image_generation_with_labels/processed_dataset/train_resized/244277.jpg\n",
      "Processed image saved to: /home/featurize/work/Img_gen/Image_generation_with_labels/processed_dataset/train_resized/240947.jpg\n",
      "Processed image saved to: /home/featurize/work/Img_gen/Image_generation_with_labels/processed_dataset/train_resized/187160.jpg\n",
      "Processed image saved to: /home/featurize/work/Img_gen/Image_generation_with_labels/processed_dataset/train_resized/183932.jpg\n",
      "Processed image saved to: /home/featurize/work/Img_gen/Image_generation_with_labels/processed_dataset/train_resized/256932.jpg\n",
      "Processed image saved to: /home/featurize/work/Img_gen/Image_generation_with_labels/processed_dataset/train_resized/196275.jpg\n",
      "Processed image saved to: /home/featurize/work/Img_gen/Image_generation_with_labels/processed_dataset/train_resized/200182.jpg\n",
      "Processed image saved to: /home/featurize/work/Img_gen/Image_generation_with_labels/processed_dataset/train_resized/175560.jpg\n",
      "Processed image saved to: /home/featurize/work/Img_gen/Image_generation_with_labels/processed_dataset/train_resized/246691.jpg\n",
      "Processed image saved to: /home/featurize/work/Img_gen/Image_generation_with_labels/processed_dataset/train_resized/171985.jpg\n",
      "Processed image saved to: /home/featurize/work/Img_gen/Image_generation_with_labels/processed_dataset/train_resized/160918.jpg\n",
      "Processed image saved to: /home/featurize/work/Img_gen/Image_generation_with_labels/processed_dataset/train_resized/198824.jpg\n",
      "Processed image saved to: /home/featurize/work/Img_gen/Image_generation_with_labels/processed_dataset/train_resized/241569.jpg\n",
      "Processed image saved to: /home/featurize/work/Img_gen/Image_generation_with_labels/processed_dataset/train_resized/171514.jpg\n",
      "Processed image saved to: /home/featurize/work/Img_gen/Image_generation_with_labels/processed_dataset/train_resized/195824.jpg\n",
      "Processed image saved to: /home/featurize/work/Img_gen/Image_generation_with_labels/processed_dataset/train_resized/177351.jpg\n",
      "Processed image saved to: /home/featurize/work/Img_gen/Image_generation_with_labels/processed_dataset/train_resized/259641.jpg\n",
      "Processed image saved to: /home/featurize/work/Img_gen/Image_generation_with_labels/processed_dataset/train_resized/247040.jpg\n",
      "Processed image saved to: /home/featurize/work/Img_gen/Image_generation_with_labels/processed_dataset/train_resized/241492.jpg\n",
      "Processed image saved to: /home/featurize/work/Img_gen/Image_generation_with_labels/processed_dataset/train_resized/211454.jpg\n",
      "Processed image saved to: /home/featurize/work/Img_gen/Image_generation_with_labels/processed_dataset/train_resized/181524.jpg\n"
     ]
    }
   ],
   "source": [
    "from PIL import Image\n",
    "import os\n",
    "\n",
    "def resize_with_padding(image_dir, output_dir, target_size=(512, 512), fill_color=(0, 0, 0)):\n",
    "    \"\"\"\n",
    "    Resize images while maintaining aspect ratio and adding padding to make them square.\n",
    "\n",
    "    Args:\n",
    "    - image_dir (str): Input directory with images.\n",
    "    - output_dir (str): Output directory for resized images.\n",
    "    - target_size (tuple): Target size (width, height), e.g., (512, 512).\n",
    "    - fill_color (tuple): Color to fill the padding (default is black).\n",
    "    \"\"\"\n",
    "    # 创建输出文件夹\n",
    "    os.makedirs(output_dir, exist_ok=True)\n",
    "    \n",
    "    for img_name in os.listdir(image_dir):\n",
    "        img_path = os.path.join(image_dir, img_name)\n",
    "        if not img_name.lower().endswith(('.png', '.jpg', '.jpeg', '.bmp', '.tiff')):\n",
    "            print(f\"Skipping non-image file: {img_name}\")\n",
    "            continue\n",
    "        \n",
    "        # 打开图片并转换为RGB格式\n",
    "        img = Image.open(img_path).convert(\"RGB\")\n",
    "        \n",
    "        # 按比例缩放图像\n",
    "        original_width, original_height = img.size\n",
    "        target_width, target_height = target_size\n",
    "\n",
    "        scale = min(target_width / original_width, target_height / original_height)\n",
    "        new_width = int(original_width * scale)\n",
    "        new_height = int(original_height * scale)\n",
    "        img = img.resize((new_width, new_height), Image.Resampling.LANCZOS)\n",
    "\n",
    "        # 创建一个新的画布，并填充背景颜色\n",
    "        new_img = Image.new(\"RGB\", target_size, fill_color)\n",
    "        paste_x = (target_width - new_width) // 2\n",
    "        paste_y = (target_height - new_height) // 2\n",
    "        new_img.paste(img, (paste_x, paste_y))\n",
    "\n",
    "        # 保存填充后的图片\n",
    "        output_path = os.path.join(output_dir, img_name)\n",
    "        new_img.save(output_path)\n",
    "        print(f\"Processed image saved to: {output_path}\")\n",
    "\n",
    "# 示例用法\n",
    "#original_images_path = \"/home/featurize/work/Img_gen/Image_generation_with_labels/processed_dataset/train\"  # 替换为原始图片文件夹路径（1908x768）\n",
    "#output_images_path = \"/home/featurize/work/Img_gen/Image_generation_with_labels/processed_dataset/train_resized\"  # 替换为输出文件夹路径（512x512）\n",
    "\n",
    "#resize_with_padding(original_images_path, output_images_path, target_size=(512, 512))\n",
    "\n"
   ]
  },
  {
   "cell_type": "code",
   "execution_count": 3,
   "id": "d9933d58-84d2-4a8f-a025-fafffd19a76b",
   "metadata": {},
   "outputs": [],
   "source": [
    "import os\n",
    "import random\n",
    "import shutil\n",
    "\n",
    "def random_sample_images(source_dir, target_dir, num_samples):\n",
    "    images = [f for f in os.listdir(source_dir) if f.endswith(('png', 'jpg', 'jpeg'))]\n",
    "    sampled_images = random.sample(images, num_samples)\n",
    "    \n",
    "    os.makedirs(target_dir, exist_ok=True)\n",
    "\n",
    "    for image in sampled_images:\n",
    "        shutil.copy(os.path.join(source_dir, image), os.path.join(target_dir, image))\n",
    "\n",
    "\n",
    "real_images_dir = \"/home/featurize/data/Images/Removed\"\n",
    "sampled_real_images_dir = \"/home/featurize/data/Images/Sampled\"\n",
    "generated_images_dir = \"/home/featurize/data/Images/generated_new\"\n",
    "\n",
    "#random_sample_images(generated_images_dir, sampled_real_images_dir, num_samples=1047)\n"
   ]
  },
  {
   "cell_type": "code",
   "execution_count": 2,
   "id": "1fc1bb3f-d2ba-44c2-994c-44d51d9d41d8",
   "metadata": {},
   "outputs": [
    {
     "name": "stderr",
     "output_type": "stream",
     "text": [
      "100%|██████████| 20/20 [00:07<00:00,  2.71it/s]\n",
      "100%|██████████| 21/21 [00:14<00:00,  1.46it/s]\n"
     ]
    },
    {
     "name": "stdout",
     "output_type": "stream",
     "text": [
      "FID value: 291.3803774023843\n"
     ]
    }
   ],
   "source": [
    "from pytorch_fid import fid_score\n",
    "\n",
    "\n",
    "real_images_path = \"/home/featurize/data/Images/resized\"\n",
    "generated_images_path = \"/home/featurize/data/Images/Sampled\"\n",
    "\n",
    "fid_value = fid_score.calculate_fid_given_paths(\n",
    "    [real_images_path, generated_images_path], \n",
    "    batch_size=50,  \n",
    "    device='cuda',  \n",
    "    dims=2048      \n",
    ")\n",
    "\n",
    "print(f\"FID value: {fid_value}\")\n"
   ]
  },
  {
   "cell_type": "code",
   "execution_count": 2,
   "id": "3aedc9e4-4d9d-46d0-8ae0-45ba55a79332",
   "metadata": {},
   "outputs": [
    {
     "name": "stderr",
     "output_type": "stream",
     "text": [
      "100%|██████████| 20/20 [00:08<00:00,  2.36it/s]\n",
      "100%|██████████| 21/21 [00:14<00:00,  1.43it/s]\n"
     ]
    },
    {
     "name": "stdout",
     "output_type": "stream",
     "text": [
      "FID value: 272.68590566651176\n"
     ]
    }
   ],
   "source": [
    "from pytorch_fid import fid_score\n",
    "real_images_path = \"/home/featurize/data/Images/Removed\"\n",
    "generated_images_path = \"/home/featurize/data/Images/Sampled\"\n",
    "\n",
    "fid_value = fid_score.calculate_fid_given_paths(\n",
    "    [real_images_path, generated_images_path], \n",
    "    batch_size=50,  \n",
    "    device='cuda',  \n",
    "    dims=2048      \n",
    ")\n",
    "\n",
    "print(f\"FID value: {fid_value}\")"
   ]
  },
  {
   "cell_type": "code",
   "execution_count": 7,
   "id": "93a3d1e5-e58c-4b22-98e4-3dd7d7e2e289",
   "metadata": {},
   "outputs": [],
   "source": [
    "real_images_dir = \"/home/featurize/work/Img_gen/Image_generation_with_labels/processed_dataset/train_resized\"\n",
    "sampled_real_images_dir = \"/home/featurize/work/Img_gen/Image_generation_with_labels/Sampled\"\n",
    "generated_images_dir = \"/home/featurize/work/Img_gen/Image_generation_with_labels/Predict_sD_old\"\n",
    "\n",
    "random_sample_images(real_images_dir, sampled_real_images_dir, num_samples=187)"
   ]
  },
  {
   "cell_type": "code",
   "execution_count": 8,
   "id": "02456fd9-3e3a-486f-8e96-0e4e73e5a87f",
   "metadata": {},
   "outputs": [
    {
     "name": "stderr",
     "output_type": "stream",
     "text": [
      "100%|██████████| 5/5 [00:02<00:00,  2.48it/s]\n",
      "100%|██████████| 4/4 [00:02<00:00,  1.46it/s]\n"
     ]
    },
    {
     "name": "stdout",
     "output_type": "stream",
     "text": [
      "FID value: 306.98839244397834\n"
     ]
    }
   ],
   "source": [
    "fid_value = fid_score.calculate_fid_given_paths(\n",
    "    [real_images_dir, generated_images_dir], \n",
    "    batch_size=50,  \n",
    "    device='cuda',  \n",
    "    dims=2048      \n",
    ")\n",
    "\n",
    "print(f\"FID value: {fid_value}\")"
   ]
  },
  {
   "cell_type": "code",
   "execution_count": 2,
   "id": "5f2a75f5-9aae-4548-8c14-309726a33100",
   "metadata": {},
   "outputs": [],
   "source": [
    "real_images_dir = \"/home/featurize/data/RLHF/resized\"\n",
    "sampled_real_images_dir = \"/home/featurize/work/Img_gen/Image_generation_with_labels/Sampled\"\n",
    "generated_images_dir = \"/home/featurize/work/Img_gen/Image_generation_with_labels/MINIM/MINIM_RLHF/outputs/XR\"\n",
    "\n",
    "random_sample_images(generated_images_dir, sampled_real_images_dir, num_samples=102)"
   ]
  },
  {
   "cell_type": "code",
   "execution_count": 5,
   "id": "8d7ec1bd-b42c-485a-b15d-e6167bff62a1",
   "metadata": {},
   "outputs": [
    {
     "name": "stderr",
     "output_type": "stream",
     "text": [
      "100%|██████████| 3/3 [00:02<00:00,  1.24it/s]\n",
      "100%|██████████| 3/3 [00:02<00:00,  1.42it/s]\n"
     ]
    },
    {
     "name": "stdout",
     "output_type": "stream",
     "text": [
      "FID value: 132.86308505775946\n"
     ]
    }
   ],
   "source": [
    "fid_value = fid_score.calculate_fid_given_paths(\n",
    "    [real_images_dir, sampled_real_images_dir], \n",
    "    batch_size=50,  \n",
    "    device='cuda',  \n",
    "    dims=2048      \n",
    ")\n",
    "\n",
    "print(f\"FID value: {fid_value}\")"
   ]
  },
  {
   "cell_type": "code",
   "execution_count": 6,
   "id": "9ee64ffe-03c2-4e88-b579-70f8216a5803",
   "metadata": {},
   "outputs": [],
   "source": [
    "real_images_dir = \"/home/featurize/data/PS_padded\"\n",
    "sampled_real_images_dir = \"/home/featurize/data/PS_padded_Sampled\"\n",
    "generated_images_dir = \"/home/featurize/work/Img_gen/Image_generation_with_labels/MINIM/MINIM_RLHF/outputs/ps/Chest X-Ray\"\n",
    "\n",
    "random_sample_images(real_images_dir, sampled_real_images_dir, num_samples=500)"
   ]
  },
  {
   "cell_type": "code",
   "execution_count": 8,
   "id": "a4f43df0-d1d9-41b7-966a-cbb94ac277eb",
   "metadata": {},
   "outputs": [
    {
     "name": "stderr",
     "output_type": "stream",
     "text": [
      "100%|██████████| 10/10 [00:04<00:00,  2.06it/s]\n",
      "100%|██████████| 5/5 [00:03<00:00,  1.38it/s]\n"
     ]
    },
    {
     "name": "stdout",
     "output_type": "stream",
     "text": [
      "FID value: 243.73028781323512\n"
     ]
    }
   ],
   "source": [
    "from pytorch_fid import fid_score\n",
    "fid_value = fid_score.calculate_fid_given_paths(\n",
    "    [sampled_real_images_dir, generated_images_dir], \n",
    "    batch_size=50,  \n",
    "    device='cuda',  \n",
    "    dims=2048      \n",
    ")\n",
    "\n",
    "print(f\"FID value: {fid_value}\")"
   ]
  },
  {
   "cell_type": "code",
   "execution_count": null,
   "id": "8c2e9e77-0f0a-402d-adc7-9b34bdf2d3da",
   "metadata": {},
   "outputs": [],
   "source": []
  }
 ],
 "metadata": {
  "kernelspec": {
   "display_name": "Python 3 (ipykernel)",
   "language": "python",
   "name": "python3"
  },
  "language_info": {
   "codemirror_mode": {
    "name": "ipython",
    "version": 3
   },
   "file_extension": ".py",
   "mimetype": "text/x-python",
   "name": "python",
   "nbconvert_exporter": "python",
   "pygments_lexer": "ipython3",
   "version": "3.10.12"
  }
 },
 "nbformat": 4,
 "nbformat_minor": 5
}
